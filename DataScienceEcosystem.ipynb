{
 "cells": [
  {
   "cell_type": "markdown",
   "id": "72a63c80-2b91-430c-a722-d2b402c28acd",
   "metadata": {},
   "source": [
    "# Tools for Data Science\n",
    "## Final Project"
   ]
  },
  {
   "cell_type": "markdown",
   "id": "86b06b34-aa63-4d2b-a5ce-aaf65888146a",
   "metadata": {},
   "source": [
    "### Exercise 2: Create markdown cell with title of the notebook"
   ]
  },
  {
   "cell_type": "markdown",
   "id": "d200b89c-c48d-4608-89bc-9436e9eebdc4",
   "metadata": {},
   "source": [
    "# Data Science Tools and Ecosystem"
   ]
  },
  {
   "cell_type": "markdown",
   "id": "0b618a27-f6d3-439b-9791-07357254c946",
   "metadata": {},
   "source": [
    "### Exercise 3 - Create a markdown cell for an introduction"
   ]
  },
  {
   "cell_type": "markdown",
   "id": "96147cad-7ae5-4252-b5ed-1d4182f1ddce",
   "metadata": {},
   "source": [
    "In this notebook, Data Science Tools and Ecosystem are summarized."
   ]
  },
  {
   "cell_type": "markdown",
   "id": "fdafbcd3-7404-41cb-8e63-973f059da044",
   "metadata": {},
   "source": [
    "### Exercise 4 - Create a markdown cell to list data science languages."
   ]
  },
  {
   "cell_type": "markdown",
   "id": "dbd69ce4-849f-4244-a9aa-c786590c55f3",
   "metadata": {},
   "source": [
    "Some of the popular languages that Data Scientists use are:\n",
    "1. Python\n",
    "2. R\n",
    "3. Julia\n",
    "4. SQL"
   ]
  },
  {
   "cell_type": "markdown",
   "id": "310fd097-0969-4e86-b63f-127ccb43e472",
   "metadata": {},
   "source": [
    "### Exercise 5 - Create a markdown cell to list data science libraries"
   ]
  },
  {
   "cell_type": "markdown",
   "id": "46b547f9-95d4-4b23-89d6-0028cbd43433",
   "metadata": {},
   "source": [
    "Some of the commonly used libraries used by Data Scientists include:\n",
    "1. matplotlib\n",
    "2. pandas\n",
    "3. numpy\n",
    "4. seaborn\n",
    "5. scikit-learn"
   ]
  },
  {
   "cell_type": "markdown",
   "id": "6c393ba0-5979-4bde-8245-09f2608641f2",
   "metadata": {},
   "source": [
    "### Exercise 6 - Create a markdown cell with a table of Data Science tools"
   ]
  },
  {
   "cell_type": "markdown",
   "id": "f172afb2-0a38-46bd-9f3b-22a665b329db",
   "metadata": {},
   "source": [
    "| **Data Science Tools** |\n",
    "|------------|\n",
    "| 1. Apache Spark |\n",
    "| 2. Apache Hadoop |\n",
    "| 3. R Studio |\n",
    "| 4. Anaconda Navigator |"
   ]
  },
  {
   "cell_type": "markdown",
   "id": "cd294742-3492-446a-800d-d7aca91fc417",
   "metadata": {},
   "source": [
    "### Exercise 7 - Create a markdown cell introducing arithmetic expression example"
   ]
  },
  {
   "cell_type": "markdown",
   "id": "bf190d37-291d-4b27-87bd-d57b89a36ceb",
   "metadata": {},
   "source": [
    "### Below are a few examples of evaluating arithmetic expressions in Python"
   ]
  },
  {
   "cell_type": "markdown",
   "id": "d7f5bba5-3c67-4392-8f40-081dc93b6c5a",
   "metadata": {},
   "source": [
    "### Exercise 8 - Create a code cell to multiply and add numbers"
   ]
  },
  {
   "cell_type": "code",
   "execution_count": 3,
   "id": "1dd5344b-0434-4c67-9e55-e7b79cd3a126",
   "metadata": {},
   "outputs": [
    {
     "data": {
      "text/plain": [
       "17"
      ]
     },
     "execution_count": 3,
     "metadata": {},
     "output_type": "execute_result"
    }
   ],
   "source": [
    "# This is a simple arithmetic expression to multiply then add integers\n",
    "(3 * 4) + 5"
   ]
  },
  {
   "cell_type": "markdown",
   "id": "acb6cc55-f074-4924-bdbb-c1f24b988424",
   "metadata": {},
   "source": [
    "### Exercise 9 - Create a code cell to convert minutes to hours"
   ]
  },
  {
   "cell_type": "code",
   "execution_count": 7,
   "id": "a0ecedc1-8b66-4b53-bc91-deab97b00474",
   "metadata": {},
   "outputs": [
    {
     "name": "stdout",
     "output_type": "stream",
     "text": [
      "3 hours and 20 minutes\n"
     ]
    }
   ],
   "source": [
    "import math\n",
    "\n",
    "minutes = 200\n",
    "def minutes_to_hours(minutes):\n",
    "  hours = math.floor(minutes / 60)\n",
    "  remaining_minutes = minutes % 60\n",
    "  return f\"{hours} hours and {remaining_minutes} minutes\"\n",
    "\n",
    "print(minutes_to_hours(minutes))"
   ]
  },
  {
   "cell_type": "markdown",
   "id": "95c8ef6c-2ff0-49e9-af56-a7cee7be85cc",
   "metadata": {},
   "source": [
    "### Exercise 10 - Insert a markdown cell to list Objectives"
   ]
  },
  {
   "cell_type": "markdown",
   "id": "7640c89d-85a7-48cb-b109-78312e2ecd88",
   "metadata": {},
   "source": [
    "**Objectives:**\n",
    "- Become familiar with the most common tools for data science\n",
    "- Understand the distinction between free and open-source software\n",
    "- Learn the most common Python libraries for data science\n",
    "- Become proficient in the use of Jupyter Notebooks\n",
    "- Become familiar with some common integrated development environments"
   ]
  },
  {
   "cell_type": "markdown",
   "id": "962e6805-c19a-4025-9683-4cb988d9a1dd",
   "metadata": {},
   "source": [
    "### Exercise 11 - Create a markdown cell to indicate the Author's name"
   ]
  },
  {
   "cell_type": "markdown",
   "id": "a842be62-ae06-4824-a996-b616a1ec983f",
   "metadata": {},
   "source": [
    "## Author\n",
    "James M. Lockwood"
   ]
  },
  {
   "cell_type": "code",
   "execution_count": null,
   "id": "8f9fde87-1f7a-463b-b13c-5a667395a666",
   "metadata": {},
   "outputs": [],
   "source": []
  }
 ],
 "metadata": {
  "kernelspec": {
   "display_name": "Python 3 (ipykernel)",
   "language": "python",
   "name": "python3"
  },
  "language_info": {
   "codemirror_mode": {
    "name": "ipython",
    "version": 3
   },
   "file_extension": ".py",
   "mimetype": "text/x-python",
   "name": "python",
   "nbconvert_exporter": "python",
   "pygments_lexer": "ipython3",
   "version": "3.12.9"
  }
 },
 "nbformat": 4,
 "nbformat_minor": 5
}
